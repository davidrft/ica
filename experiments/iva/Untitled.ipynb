{
 "cells": [
  {
   "cell_type": "code",
   "execution_count": 79,
   "metadata": {},
   "outputs": [
    {
     "name": "stdout",
     "output_type": "stream",
     "text": [
      "ans =\n",
      "\n",
      "       2   87296\n",
      "\n"
     ]
    }
   ],
   "source": [
    "[X0, fs] = audioread(\"simulated0.wav\");\n",
    "[X1, fs] = audioread(\"simulated1.wav\");\n",
    "\n",
    "X0 = X0';\n",
    "X1 = X1';\n",
    "X = [X0; X1];\n",
    "size(X)"
   ]
  },
  {
   "cell_type": "code",
   "execution_count": 80,
   "metadata": {},
   "outputs": [
    {
     "name": "stdout",
     "output_type": "stream",
     "text": [
      "warning: Matlab-style short-circuit operation performed for operator |\n",
      "warning: called from\n",
      "    fivabss at line 25 column 1\n",
      "warning: Matlab-style short-circuit operation performed for operator |\n",
      "warning: called from\n",
      "    fivabss at line 26 column 1\n",
      "warning: Matlab-style short-circuit operation performed for operator |\n",
      "warning: called from\n",
      "    fivabss at line 27 column 1\n",
      "10 iterations: Objective=1.652195e-02, dObj=1.021219e-02\n",
      "20 iterations: Objective=1.531976e-02, dObj=6.445476e-04\n"
     ]
    }
   ],
   "source": [
    "[y, w] = fivabss(X, 4096);"
   ]
  },
  {
   "cell_type": "code",
   "execution_count": 81,
   "metadata": {},
   "outputs": [
    {
     "name": "stdout",
     "output_type": "stream",
     "text": [
      "ans =\n",
      "\n",
      "       2   87296\n",
      "\n",
      "ans =\n",
      "\n",
      "      2      2   2049\n",
      "\n"
     ]
    }
   ],
   "source": [
    "size(y)\n",
    "size(w)"
   ]
  },
  {
   "cell_type": "code",
   "execution_count": 82,
   "metadata": {},
   "outputs": [],
   "source": [
    "audiowrite(\"separated0.wav\", y(1, :), fs)\n",
    "audiowrite(\"separated1.wav\", y(2, :), fs)"
   ]
  },
  {
   "cell_type": "code",
   "execution_count": null,
   "metadata": {},
   "outputs": [],
   "source": []
  }
 ],
 "metadata": {
  "kernelspec": {
   "display_name": "Octave",
   "language": "octave",
   "name": "octave"
  },
  "language_info": {
   "file_extension": ".m",
   "help_links": [
    {
     "text": "GNU Octave",
     "url": "https://www.gnu.org/software/octave/support.html"
    },
    {
     "text": "Octave Kernel",
     "url": "https://github.com/Calysto/octave_kernel"
    },
    {
     "text": "MetaKernel Magics",
     "url": "https://metakernel.readthedocs.io/en/latest/source/README.html"
    }
   ],
   "mimetype": "text/x-octave",
   "name": "octave",
   "version": "5.1.0"
  }
 },
 "nbformat": 4,
 "nbformat_minor": 4
}
